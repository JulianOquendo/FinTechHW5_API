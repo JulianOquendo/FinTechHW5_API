{
 "cells": [
  {
   "cell_type": "markdown",
   "metadata": {},
   "source": [
    "# Retirement Planner\n",
    "\n",
    "---\n",
    "\n",
    "## Environment Setup"
   ]
  },
  {
   "cell_type": "code",
   "execution_count": 1,
   "metadata": {},
   "outputs": [],
   "source": [
    "# Import libraries and dependencies\n",
    "import numpy as np\n",
    "import pandas as pd\n",
    "import os\n",
    "from datetime import datetime, timedelta\n",
    "import matplotlib.pyplot as plt\n",
    "import alpaca_trade_api as tradeapi\n",
    "%matplotlib inline"
   ]
  },
  {
   "cell_type": "code",
   "execution_count": 2,
   "metadata": {},
   "outputs": [],
   "source": [
    "# Set the random seed for resutls reproducibility (for testing purposes only)\n",
    "np.random.seed(42)"
   ]
  },
  {
   "cell_type": "markdown",
   "metadata": {},
   "source": [
    "---\n",
    "\n",
    "## Portfolio Planner\n",
    "\n",
    "In this activity, you will use the Alpaca API to grab historical data for a `60/40` portfolio using `SPY` to represent the stock portion and `AGG` to represent the bonds."
   ]
  },
  {
   "cell_type": "code",
   "execution_count": 3,
   "metadata": {},
   "outputs": [],
   "source": [
    "# Load .env enviroment variables\n",
    "from dotenv import load_dotenv\n",
    "load_dotenv()\n",
    "\n",
    "# Set Alpaca API key and secret\n",
    "alpaca_api_key = os.getenv(\"ALPACA_API_KEY\")\n",
    "alpaca_secret_key = os.getenv(\"ALPACA_SECRET_KEY\")\n",
    "\n",
    "# Create the Alpaca API object\n",
    "api = tradeapi.REST(\n",
    "    alpaca_api_key,\n",
    "    alpaca_secret_key,\n",
    "    api_version=\"v2\")"
   ]
  },
  {
   "cell_type": "markdown",
   "metadata": {},
   "source": [
    "# Data Collection\n",
    "\n",
    "In this step, you will need to use the Alpaca api to fetch closing prices for the `SPY` and `AGG` tickers. Save the results as a pandas DataFrame"
   ]
  },
  {
   "cell_type": "code",
   "execution_count": 4,
   "metadata": {},
   "outputs": [],
   "source": [
    "# Subset your tickers, then pull returns data:\n",
    "# Set the ticker\n",
    "ticker = [\"SPY\", \"AGG\"]\n",
    "\n",
    "# Set timeframe to '1D'\n",
    "timeframe = \"1D\"\n",
    "\n",
    "# Set start and end datetimes of 1 year, between now and 365 days ago.\n",
    "start_date = pd.Timestamp('2019-01-01', tz='America/New_York').isoformat()\n",
    "end_date = pd.Timestamp('2019-12-31', tz='America/New_York').isoformat()\n",
    "\n",
    "# Get 1 year's worth of historical data for SPY and AGG\n",
    "df = api.get_barset(\n",
    "    ticker,\n",
    "    timeframe,\n",
    "    limit=None,\n",
    "    start=start_date,\n",
    "    end=end_date,\n",
    "    after=None,\n",
    "    until=None,\n",
    ").df\n",
    "\n",
    "# Drop unnecessary columns\n",
    "df = df.drop(\n",
    "    columns=['open', 'high', 'low', 'volume'],\n",
    "    level=1\n",
    ")"
   ]
  },
  {
   "cell_type": "code",
   "execution_count": 5,
   "metadata": {},
   "outputs": [
    {
     "data": {
      "text/html": [
       "<div>\n",
       "<style scoped>\n",
       "    .dataframe tbody tr th:only-of-type {\n",
       "        vertical-align: middle;\n",
       "    }\n",
       "\n",
       "    .dataframe tbody tr th {\n",
       "        vertical-align: top;\n",
       "    }\n",
       "\n",
       "    .dataframe thead tr th {\n",
       "        text-align: left;\n",
       "    }\n",
       "</style>\n",
       "<table border=\"1\" class=\"dataframe\">\n",
       "  <thead>\n",
       "    <tr>\n",
       "      <th></th>\n",
       "      <th>AGG</th>\n",
       "      <th>SPY</th>\n",
       "    </tr>\n",
       "    <tr>\n",
       "      <th></th>\n",
       "      <th>close</th>\n",
       "      <th>close</th>\n",
       "    </tr>\n",
       "  </thead>\n",
       "  <tbody>\n",
       "    <tr>\n",
       "      <th>2019-01-02 00:00:00-05:00</th>\n",
       "      <td>106.585</td>\n",
       "      <td>249.89</td>\n",
       "    </tr>\n",
       "    <tr>\n",
       "      <th>2019-01-03 00:00:00-05:00</th>\n",
       "      <td>107.020</td>\n",
       "      <td>244.46</td>\n",
       "    </tr>\n",
       "    <tr>\n",
       "      <th>2019-01-04 00:00:00-05:00</th>\n",
       "      <td>106.695</td>\n",
       "      <td>252.41</td>\n",
       "    </tr>\n",
       "    <tr>\n",
       "      <th>2019-01-07 00:00:00-05:00</th>\n",
       "      <td>106.470</td>\n",
       "      <td>254.40</td>\n",
       "    </tr>\n",
       "    <tr>\n",
       "      <th>2019-01-08 00:00:00-05:00</th>\n",
       "      <td>106.420</td>\n",
       "      <td>256.65</td>\n",
       "    </tr>\n",
       "  </tbody>\n",
       "</table>\n",
       "</div>"
      ],
      "text/plain": [
       "                               AGG     SPY\n",
       "                             close   close\n",
       "2019-01-02 00:00:00-05:00  106.585  249.89\n",
       "2019-01-03 00:00:00-05:00  107.020  244.46\n",
       "2019-01-04 00:00:00-05:00  106.695  252.41\n",
       "2019-01-07 00:00:00-05:00  106.470  254.40\n",
       "2019-01-08 00:00:00-05:00  106.420  256.65"
      ]
     },
     "execution_count": 5,
     "metadata": {},
     "output_type": "execute_result"
    }
   ],
   "source": [
    "# Display sample data\n",
    "df.head()"
   ]
  },
  {
   "cell_type": "markdown",
   "metadata": {},
   "source": [
    "---\n",
    "\n",
    "## Monte Carlo Simulation\n",
    "\n",
    "In this step, you will run Monte Carlo Simulations for your portfolio to model portfolio performance at different retirement ages. \n",
    "\n",
    "Complete the following steps:\n",
    "\n",
    "1. Calculate the daily returns for the SPY and AGG closing prices.\n",
    "\n",
    "2. Calculate volatility for both the SPY and AGG closing prices.\n",
    "\n",
    "3. Find the last day's closing price for both stocks and save those as variables\n",
    "\n",
    "4. Run a Monte Carlo Simulation of at least `100` iterations and generate at least `30` years of closing prices\n",
    "\n",
    "**Hint:** There are `252` trading days per year, so the number of records to generate for each Monte Carlo run will be `252 days * 30 years`."
   ]
  },
  {
   "cell_type": "code",
   "execution_count": 6,
   "metadata": {},
   "outputs": [
    {
     "data": {
      "text/html": [
       "<div>\n",
       "<style scoped>\n",
       "    .dataframe tbody tr th:only-of-type {\n",
       "        vertical-align: middle;\n",
       "    }\n",
       "\n",
       "    .dataframe tbody tr th {\n",
       "        vertical-align: top;\n",
       "    }\n",
       "\n",
       "    .dataframe thead tr th {\n",
       "        text-align: left;\n",
       "    }\n",
       "</style>\n",
       "<table border=\"1\" class=\"dataframe\">\n",
       "  <thead>\n",
       "    <tr>\n",
       "      <th></th>\n",
       "      <th>AGG</th>\n",
       "      <th>SPY</th>\n",
       "    </tr>\n",
       "    <tr>\n",
       "      <th></th>\n",
       "      <th>close</th>\n",
       "      <th>close</th>\n",
       "    </tr>\n",
       "  </thead>\n",
       "  <tbody>\n",
       "    <tr>\n",
       "      <th>2019-01-02 00:00:00-05:00</th>\n",
       "      <td>NaN</td>\n",
       "      <td>NaN</td>\n",
       "    </tr>\n",
       "    <tr>\n",
       "      <th>2019-01-03 00:00:00-05:00</th>\n",
       "      <td>0.004081</td>\n",
       "      <td>-0.021730</td>\n",
       "    </tr>\n",
       "    <tr>\n",
       "      <th>2019-01-04 00:00:00-05:00</th>\n",
       "      <td>-0.003037</td>\n",
       "      <td>0.032521</td>\n",
       "    </tr>\n",
       "    <tr>\n",
       "      <th>2019-01-07 00:00:00-05:00</th>\n",
       "      <td>-0.002109</td>\n",
       "      <td>0.007884</td>\n",
       "    </tr>\n",
       "    <tr>\n",
       "      <th>2019-01-08 00:00:00-05:00</th>\n",
       "      <td>-0.000470</td>\n",
       "      <td>0.008844</td>\n",
       "    </tr>\n",
       "  </tbody>\n",
       "</table>\n",
       "</div>"
      ],
      "text/plain": [
       "                                AGG       SPY\n",
       "                              close     close\n",
       "2019-01-02 00:00:00-05:00       NaN       NaN\n",
       "2019-01-03 00:00:00-05:00  0.004081 -0.021730\n",
       "2019-01-04 00:00:00-05:00 -0.003037  0.032521\n",
       "2019-01-07 00:00:00-05:00 -0.002109  0.007884\n",
       "2019-01-08 00:00:00-05:00 -0.000470  0.008844"
      ]
     },
     "execution_count": 6,
     "metadata": {},
     "output_type": "execute_result"
    }
   ],
   "source": [
    "# Calculate the daily roi for the stocks\n",
    "\n",
    "# Display sample data\n",
    "\n",
    "daily_returns = df.pct_change()\n",
    "daily_returns.head()"
   ]
  },
  {
   "cell_type": "code",
   "execution_count": 7,
   "metadata": {},
   "outputs": [
    {
     "name": "stdout",
     "output_type": "stream",
     "text": [
      "avg_daily_return_spy = 0.0010401250682146959; avg_daily_return_agg = 0.00021277231473764173\n"
     ]
    }
   ],
   "source": [
    "avg_daily_return_spy = daily_returns.mean()['SPY']['close']\n",
    "avg_daily_return_agg = daily_returns.mean()['AGG']['close']\n",
    "print(f\"avg_daily_return_spy = {avg_daily_return_spy}; avg_daily_return_agg = {avg_daily_return_agg}\")"
   ]
  },
  {
   "cell_type": "code",
   "execution_count": 8,
   "metadata": {},
   "outputs": [
    {
     "name": "stdout",
     "output_type": "stream",
     "text": [
      "std_dev_daily_return_spy = 0.007820053413439366; std_dev_daily_return_agg = 0.002089826211646555\n"
     ]
    }
   ],
   "source": [
    "# Compute daily volatility\n",
    "\n",
    "std_dev_daily_return_spy = daily_returns.std()['SPY']['close']\n",
    "std_dev_daily_return_agg = daily_returns.std()['AGG']['close']\n",
    "print(f\"std_dev_daily_return_spy = {std_dev_daily_return_spy}; std_dev_daily_return_agg = {std_dev_daily_return_agg}\")"
   ]
  },
  {
   "cell_type": "code",
   "execution_count": 9,
   "metadata": {},
   "outputs": [
    {
     "name": "stdout",
     "output_type": "stream",
     "text": [
      "spy_last_price = 321.92; agg_last_price = 112.37\n"
     ]
    }
   ],
   "source": [
    "# Save the last day's closing price\n",
    "\n",
    "spy_last_price = df['SPY']['close'][-1]\n",
    "agg_last_price = df['AGG']['close'][-1]\n",
    "print(f\"spy_last_price = {spy_last_price}; agg_last_price = {agg_last_price}\")"
   ]
  },
  {
   "cell_type": "code",
   "execution_count": 10,
   "metadata": {},
   "outputs": [],
   "source": [
    "# Setup the Monte Carlo Parameters\n",
    "number_simulations = 500\n",
    "number_records = 252 * 30\n",
    "monte_carlo = pd.DataFrame()\n",
    "simulated_prices = pd.DataFrame()"
   ]
  },
  {
   "cell_type": "code",
   "execution_count": 25,
   "metadata": {},
   "outputs": [
    {
     "data": {
      "text/html": [
       "<div>\n",
       "<style scoped>\n",
       "    .dataframe tbody tr th:only-of-type {\n",
       "        vertical-align: middle;\n",
       "    }\n",
       "\n",
       "    .dataframe tbody tr th {\n",
       "        vertical-align: top;\n",
       "    }\n",
       "\n",
       "    .dataframe thead th {\n",
       "        text-align: right;\n",
       "    }\n",
       "</style>\n",
       "<table border=\"1\" class=\"dataframe\">\n",
       "  <thead>\n",
       "    <tr style=\"text-align: right;\">\n",
       "      <th></th>\n",
       "      <th>0</th>\n",
       "      <th>1</th>\n",
       "      <th>2</th>\n",
       "      <th>3</th>\n",
       "      <th>4</th>\n",
       "      <th>5</th>\n",
       "      <th>6</th>\n",
       "      <th>7</th>\n",
       "      <th>8</th>\n",
       "      <th>9</th>\n",
       "      <th>...</th>\n",
       "      <th>490</th>\n",
       "      <th>491</th>\n",
       "      <th>492</th>\n",
       "      <th>493</th>\n",
       "      <th>494</th>\n",
       "      <th>495</th>\n",
       "      <th>496</th>\n",
       "      <th>497</th>\n",
       "      <th>498</th>\n",
       "      <th>499</th>\n",
       "    </tr>\n",
       "  </thead>\n",
       "  <tbody>\n",
       "    <tr>\n",
       "      <th>7556</th>\n",
       "      <td>315.227869</td>\n",
       "      <td>142.213843</td>\n",
       "      <td>277.750067</td>\n",
       "      <td>267.384220</td>\n",
       "      <td>218.958475</td>\n",
       "      <td>187.980722</td>\n",
       "      <td>311.102506</td>\n",
       "      <td>148.006662</td>\n",
       "      <td>210.806321</td>\n",
       "      <td>350.686894</td>\n",
       "      <td>...</td>\n",
       "      <td>162.170812</td>\n",
       "      <td>205.931781</td>\n",
       "      <td>165.225026</td>\n",
       "      <td>77.245575</td>\n",
       "      <td>217.881955</td>\n",
       "      <td>281.673398</td>\n",
       "      <td>164.077153</td>\n",
       "      <td>199.785943</td>\n",
       "      <td>189.893597</td>\n",
       "      <td>271.153709</td>\n",
       "    </tr>\n",
       "    <tr>\n",
       "      <th>7557</th>\n",
       "      <td>316.085941</td>\n",
       "      <td>142.131192</td>\n",
       "      <td>280.110631</td>\n",
       "      <td>266.300793</td>\n",
       "      <td>218.852655</td>\n",
       "      <td>189.942933</td>\n",
       "      <td>308.942998</td>\n",
       "      <td>148.970533</td>\n",
       "      <td>210.003351</td>\n",
       "      <td>352.107982</td>\n",
       "      <td>...</td>\n",
       "      <td>162.719931</td>\n",
       "      <td>206.138273</td>\n",
       "      <td>164.842042</td>\n",
       "      <td>77.275292</td>\n",
       "      <td>218.025563</td>\n",
       "      <td>280.958028</td>\n",
       "      <td>164.575049</td>\n",
       "      <td>198.438086</td>\n",
       "      <td>189.405534</td>\n",
       "      <td>273.357070</td>\n",
       "    </tr>\n",
       "    <tr>\n",
       "      <th>7558</th>\n",
       "      <td>314.347415</td>\n",
       "      <td>142.981753</td>\n",
       "      <td>279.707404</td>\n",
       "      <td>266.963232</td>\n",
       "      <td>219.831358</td>\n",
       "      <td>190.558105</td>\n",
       "      <td>307.031986</td>\n",
       "      <td>148.563745</td>\n",
       "      <td>210.070076</td>\n",
       "      <td>353.123587</td>\n",
       "      <td>...</td>\n",
       "      <td>162.926808</td>\n",
       "      <td>207.545207</td>\n",
       "      <td>164.717865</td>\n",
       "      <td>77.576389</td>\n",
       "      <td>217.580496</td>\n",
       "      <td>280.752767</td>\n",
       "      <td>163.586633</td>\n",
       "      <td>199.476633</td>\n",
       "      <td>190.197074</td>\n",
       "      <td>273.440659</td>\n",
       "    </tr>\n",
       "    <tr>\n",
       "      <th>7559</th>\n",
       "      <td>313.169941</td>\n",
       "      <td>143.583776</td>\n",
       "      <td>280.579256</td>\n",
       "      <td>266.621254</td>\n",
       "      <td>219.123053</td>\n",
       "      <td>191.845169</td>\n",
       "      <td>308.041929</td>\n",
       "      <td>149.811959</td>\n",
       "      <td>211.948262</td>\n",
       "      <td>351.347016</td>\n",
       "      <td>...</td>\n",
       "      <td>162.115257</td>\n",
       "      <td>207.014606</td>\n",
       "      <td>165.196908</td>\n",
       "      <td>77.342240</td>\n",
       "      <td>215.582483</td>\n",
       "      <td>281.354117</td>\n",
       "      <td>164.796684</td>\n",
       "      <td>200.287875</td>\n",
       "      <td>190.565449</td>\n",
       "      <td>274.426144</td>\n",
       "    </tr>\n",
       "    <tr>\n",
       "      <th>7560</th>\n",
       "      <td>312.988957</td>\n",
       "      <td>144.711581</td>\n",
       "      <td>283.009654</td>\n",
       "      <td>265.593084</td>\n",
       "      <td>220.256403</td>\n",
       "      <td>194.112783</td>\n",
       "      <td>306.750684</td>\n",
       "      <td>149.945449</td>\n",
       "      <td>212.391031</td>\n",
       "      <td>352.520894</td>\n",
       "      <td>...</td>\n",
       "      <td>162.364040</td>\n",
       "      <td>207.395961</td>\n",
       "      <td>164.972361</td>\n",
       "      <td>77.323464</td>\n",
       "      <td>216.558776</td>\n",
       "      <td>280.928372</td>\n",
       "      <td>163.617271</td>\n",
       "      <td>199.214203</td>\n",
       "      <td>191.690804</td>\n",
       "      <td>275.269303</td>\n",
       "    </tr>\n",
       "  </tbody>\n",
       "</table>\n",
       "<p>5 rows × 500 columns</p>\n",
       "</div>"
      ],
      "text/plain": [
       "             0           1           2           3           4           5    \\\n",
       "7556  315.227869  142.213843  277.750067  267.384220  218.958475  187.980722   \n",
       "7557  316.085941  142.131192  280.110631  266.300793  218.852655  189.942933   \n",
       "7558  314.347415  142.981753  279.707404  266.963232  219.831358  190.558105   \n",
       "7559  313.169941  143.583776  280.579256  266.621254  219.123053  191.845169   \n",
       "7560  312.988957  144.711581  283.009654  265.593084  220.256403  194.112783   \n",
       "\n",
       "             6           7           8           9    ...         490  \\\n",
       "7556  311.102506  148.006662  210.806321  350.686894  ...  162.170812   \n",
       "7557  308.942998  148.970533  210.003351  352.107982  ...  162.719931   \n",
       "7558  307.031986  148.563745  210.070076  353.123587  ...  162.926808   \n",
       "7559  308.041929  149.811959  211.948262  351.347016  ...  162.115257   \n",
       "7560  306.750684  149.945449  212.391031  352.520894  ...  162.364040   \n",
       "\n",
       "             491         492        493         494         495         496  \\\n",
       "7556  205.931781  165.225026  77.245575  217.881955  281.673398  164.077153   \n",
       "7557  206.138273  164.842042  77.275292  218.025563  280.958028  164.575049   \n",
       "7558  207.545207  164.717865  77.576389  217.580496  280.752767  163.586633   \n",
       "7559  207.014606  165.196908  77.342240  215.582483  281.354117  164.796684   \n",
       "7560  207.395961  164.972361  77.323464  216.558776  280.928372  163.617271   \n",
       "\n",
       "             497         498         499  \n",
       "7556  199.785943  189.893597  271.153709  \n",
       "7557  198.438086  189.405534  273.357070  \n",
       "7558  199.476633  190.197074  273.440659  \n",
       "7559  200.287875  190.565449  274.426144  \n",
       "7560  199.214203  191.690804  275.269303  \n",
       "\n",
       "[5 rows x 500 columns]"
      ]
     },
     "execution_count": 25,
     "metadata": {},
     "output_type": "execute_result"
    }
   ],
   "source": [
    "# Running the Monte Carlo Simulation\n",
    "\n",
    "for x in range(number_simulations):\n",
    " \n",
    "    #Initiating SPY and AGG simulated prices with last closing price\n",
    "    simulated_spy_prices = [spy_last_price]\n",
    "    simulated_agg_prices = [agg_last_price]\n",
    "    \n",
    "    for y in range(number_records):\n",
    "        #Calculating simulated price of SPY and AGG using last price and append to their respective list\n",
    "        simulated_spy_price = simulated_spy_prices[-1] * (1 + np.random.normal(avg_daily_return_spy, std_dev_daily_return_spy))\n",
    "        simulated_spy_prices.append(simulated_spy_price)\n",
    "        simulated_agg_price = simulated_agg_prices[-1] * (1 + np.random.normal(avg_daily_return_agg, std_dev_daily_return_agg))\n",
    "        simulated_agg_prices.append(simulated_agg_price)\n",
    "    \n",
    "    #Appending simulated prices in the simulation dataframe\n",
    "    simulated_prices[\"SPY prices\"] = pd.Series(simulated_spy_prices)\n",
    "    simulated_prices[\"AGG prices\"] = pd.Series(simulated_agg_prices)\n",
    "    \n",
    "    # Calculating the daily returns of simulated prices\n",
    "    simulated_daily_returns = simulated_prices.pct_change()\n",
    "    \n",
    "    # Setting the portfolio weights (60% SPY; 40% AGG) and apply to portfolio\n",
    "    weights = [0.6, 0.4]\n",
    "    portfolio_daily_returns = simulated_daily_returns.dot(weights)\n",
    "    \n",
    "    # Calculating the normalized, cumulative return series\n",
    "    monte_carlo[x] = (1 + portfolio_daily_returns.fillna(0)).cumprod()\n",
    "\n",
    "# Printing top records of cumulative returns data frame\n",
    "monte_carlo.tail()"
   ]
  },
  {
   "cell_type": "code",
   "execution_count": 28,
   "metadata": {},
   "outputs": [
    {
     "data": {
      "text/plain": [
       "<matplotlib.axes._subplots.AxesSubplot at 0x7f9a71884dd0>"
      ]
     },
     "execution_count": 28,
     "metadata": {},
     "output_type": "execute_result"
    },
    {
     "data": {
      "image/png": "[encoded data removed]",
      "text/plain": [
       "<Figure size 720x360 with 1 Axes>"
      ]
     },
     "metadata": {
      "needs_background": "light"
     },
     "output_type": "display_data"
    }
   ],
   "source": [
    "# Visualize the Simulation\n",
    "\n",
    "plot_title = f\"{x+1} Simulations of Cumulative Portfolio Return Trajectories Over the Next {number_records/252} years\"\n",
    "monte_carlo_simulation = monte_carlo.plot(legend=None, title=plot_title,figsize=(10,5))\n",
    "monte_carlo_simulation.set_xlabel(\"trading days\")\n",
    "monte_carlo_simulation.set_ylabel(\"cumulative returns\")\n",
    "monte_carlo_simulation"
   ]
  },
  {
   "cell_type": "code",
   "execution_count": 33,
   "metadata": {},
   "outputs": [],
   "source": [
    "# Save figure\n",
    "\n",
    "monte_carlo_simulation.figure.savefig('monte_carlo_simulation_30_years')"
   ]
  },
  {
   "cell_type": "code",
   "execution_count": 34,
   "metadata": {},
   "outputs": [
    {
     "data": {
      "text/plain": [
       "(53.427559469254085, 522.4208763468773)"
      ]
     },
     "execution_count": 34,
     "metadata": {},
     "output_type": "execute_result"
    }
   ],
   "source": [
    "# Select the last row for the cumulative returns (cumulative returns at 20 years)\n",
    "\n",
    "ending_cumulative_returns = monte_carlo.iloc[-1, :]\n",
    "ending_cumulative_returns.min(),ending_cumulative_returns.max()"
   ]
  },
  {
   "cell_type": "code",
   "execution_count": 35,
   "metadata": {},
   "outputs": [
    {
     "data": {
      "text/plain": [
       "0.05     94.917270\n",
       "0.95    365.378239\n",
       "Name: 7560, dtype: float64"
      ]
     },
     "execution_count": 35,
     "metadata": {},
     "output_type": "execute_result"
    }
   ],
   "source": [
    "# Display the 90% confidence interval for the ending returns\n",
    "\n",
    "confidence_interval = ending_cumulative_returns.quantile(q=[0.05, 0.95])\n",
    "confidence_interval"
   ]
  },
  {
   "cell_type": "code",
   "execution_count": 36,
   "metadata": {},
   "outputs": [
    {
     "data": {
      "text/plain": [
       "<matplotlib.lines.Line2D at 0x7f9a5bd17050>"
      ]
     },
     "execution_count": 36,
     "metadata": {},
     "output_type": "execute_result"
    },
    {
     "data": {
      "image/png": "[encoded data removed]",
      "text/plain": [
       "<Figure size 432x288 with 1 Axes>"
      ]
     },
     "metadata": {
      "needs_background": "light"
     },
     "output_type": "display_data"
    }
   ],
   "source": [
    "# Visualize the distribution of the ending returns\n",
    "\n",
    "plt.figure();\n",
    "x90_conf_int = ending_cumulative_returns.plot(kind='hist', density=True, bins=100)\n",
    "plt.axvline(confidence_interval.iloc[0], color='r')\n",
    "plt.axvline(confidence_interval.iloc[1], color='r')"
   ]
  },
  {
   "cell_type": "code",
   "execution_count": 37,
   "metadata": {},
   "outputs": [],
   "source": [
    "# Save figure\n",
    "\n",
    "x90_conf_int.figure.savefig('90_percent_conf_interval')"
   ]
  },
  {
   "cell_type": "markdown",
   "metadata": {},
   "source": [
    "---"
   ]
  },
  {
   "cell_type": "markdown",
   "metadata": {},
   "source": [
    "## Retirement Analysis\n",
    "\n",
    "In this section, you will use the monte carlo model to answer the following retirement planning questions:\n",
    "\n",
    "1. What are the expected cumulative returns at `30` years for the `10th`, `50th`, and `90th` percentiles?\n",
    "\n",
    "2. Given an initial investment of `$20,000`, what is the expected return in dollars at the `10th`, `50th`, and `90th` percentiles?\n",
    "\n",
    "3. Given the current projected annual income from the Plaid analysis, will a `4%` withdrawal rate meet or exceed that value at the `10th` percentile? Note: This is basically determining if retirement income is equivalent to current income.\n",
    "\n",
    "4. How would a `50%` increase in the initial investment amount affect the `4%` retirement withdrawal? In other words, what happens if the initial investment had been bigger?"
   ]
  },
  {
   "cell_type": "markdown",
   "metadata": {},
   "source": [
    "### What are the expected cumulative returns at 30 years for the 10th, 50th, and 90th percentiles?"
   ]
  },
  {
   "cell_type": "code",
   "execution_count": 38,
   "metadata": {},
   "outputs": [
    {
     "data": {
      "text/plain": [
       "0.1    109.408912\n",
       "0.5    200.567754\n",
       "0.9    311.555580\n",
       "Name: 7560, dtype: float64"
      ]
     },
     "execution_count": 38,
     "metadata": {},
     "output_type": "execute_result"
    }
   ],
   "source": [
    "# Compute cumulative returns\n",
    "\n",
    "ending_cumulative_returns.quantile(q=[0.1, 0.5,0.9])"
   ]
  },
  {
   "cell_type": "markdown",
   "metadata": {},
   "source": [
    "### Given an initial investment of `$20,000`, what is the expected portfolio return in dollars at the 10th, 50th, and 90th percentiles?"
   ]
  },
  {
   "cell_type": "code",
   "execution_count": 39,
   "metadata": {},
   "outputs": [
    {
     "data": {
      "text/plain": [
       "0.1    2.188178e+06\n",
       "0.5    4.011355e+06\n",
       "0.9    6.231112e+06\n",
       "Name: 7560, dtype: float64"
      ]
     },
     "execution_count": 39,
     "metadata": {},
     "output_type": "execute_result"
    }
   ],
   "source": [
    "# Set initial investment\n",
    "\n",
    "# Compute expected portfolio return\n",
    "\n",
    "initial_investment = 20000\n",
    "ending_cumulative_returns.quantile(q=[0.1, 0.5,0.9])*initial_investment"
   ]
  },
  {
   "cell_type": "markdown",
   "metadata": {},
   "source": [
    "### Given the current projected annual income from the Plaid analysis, will a 4% withdraw rate from the retirement portfolio meet or exceed that value at the 10th percentile?\n",
    "\n",
    "Note: This is effectively saying that 90% of the expected returns will be greater than the return at the 10th percentile, so this can help measure the uncertainty about having enough funds at retirement"
   ]
  },
  {
   "cell_type": "code",
   "execution_count": 40,
   "metadata": {},
   "outputs": [
    {
     "data": {
      "text/plain": [
       "87527.12982035022"
      ]
     },
     "execution_count": 40,
     "metadata": {},
     "output_type": "execute_result"
    }
   ],
   "source": [
    "# Set Plaid's projected income\n",
    "\n",
    "# Calculate the 4% withdrawal for the ending return as retirement income\n",
    "\n",
    "# Determine if the retirement income meets or exceeds the current projected income\n",
    "\n",
    "retirement_income = 0.04 * (initial_investment * ending_cumulative_returns.quantile(.1))\n",
    "retirement_income"
   ]
  },
  {
   "cell_type": "markdown",
   "metadata": {},
   "source": [
    "### How would a 50% increase in the initial investment amount affect the 4% retirement withdrawal?"
   ]
  },
  {
   "cell_type": "code",
   "execution_count": 41,
   "metadata": {},
   "outputs": [
    {
     "data": {
      "text/plain": [
       "131290.69473052534"
      ]
     },
     "execution_count": 41,
     "metadata": {},
     "output_type": "execute_result"
    }
   ],
   "source": [
    "# Re-calculate the retirement income with a 50% increase in the initial investment amount\n",
    "\n",
    "initial_investment = initial_investment * 1.5\n",
    "retirement_income = 0.04 * (initial_investment * ending_cumulative_returns.quantile(.1))\n",
    "retirement_income"
   ]
  },
  {
   "cell_type": "markdown",
   "metadata": {},
   "source": [
    "### Optional Challenge\n",
    "\n",
    "Use the Monte Carlo data and calculate the cumulative returns at the `5%`, `50%`, and `95%` quartiles and plot this data as a line chart to see how the cumulative returns change over the life of the investment.\n",
    "\n",
    "In this section, you need to calculate and plot the cumulative returns for the median and `90%` confidence intervals. This plot shows the expected cumulative returns for any given day between the first day and the last day of investment. "
   ]
  },
  {
   "cell_type": "code",
   "execution_count": 43,
   "metadata": {},
   "outputs": [
    {
     "data": {
      "text/html": [
       "<div>\n",
       "<style scoped>\n",
       "    .dataframe tbody tr th:only-of-type {\n",
       "        vertical-align: middle;\n",
       "    }\n",
       "\n",
       "    .dataframe tbody tr th {\n",
       "        vertical-align: top;\n",
       "    }\n",
       "\n",
       "    .dataframe thead th {\n",
       "        text-align: right;\n",
       "    }\n",
       "</style>\n",
       "<table border=\"1\" class=\"dataframe\">\n",
       "  <thead>\n",
       "    <tr style=\"text-align: right;\">\n",
       "      <th></th>\n",
       "      <th>0.05 Quantile</th>\n",
       "      <th>0.50 Quantile</th>\n",
       "      <th>0.95 Quantile</th>\n",
       "    </tr>\n",
       "  </thead>\n",
       "  <tbody>\n",
       "    <tr>\n",
       "      <th>7556</th>\n",
       "      <td>95.209842</td>\n",
       "      <td>200.998711</td>\n",
       "      <td>363.664790</td>\n",
       "    </tr>\n",
       "    <tr>\n",
       "      <th>7557</th>\n",
       "      <td>95.658591</td>\n",
       "      <td>200.822983</td>\n",
       "      <td>363.505149</td>\n",
       "    </tr>\n",
       "    <tr>\n",
       "      <th>7558</th>\n",
       "      <td>95.314602</td>\n",
       "      <td>200.798531</td>\n",
       "      <td>364.798740</td>\n",
       "    </tr>\n",
       "    <tr>\n",
       "      <th>7559</th>\n",
       "      <td>95.046688</td>\n",
       "      <td>200.551791</td>\n",
       "      <td>363.838667</td>\n",
       "    </tr>\n",
       "    <tr>\n",
       "      <th>7560</th>\n",
       "      <td>94.917270</td>\n",
       "      <td>200.567754</td>\n",
       "      <td>365.378239</td>\n",
       "    </tr>\n",
       "  </tbody>\n",
       "</table>\n",
       "</div>"
      ],
      "text/plain": [
       "      0.05 Quantile  0.50 Quantile  0.95 Quantile\n",
       "7556      95.209842     200.998711     363.664790\n",
       "7557      95.658591     200.822983     363.505149\n",
       "7558      95.314602     200.798531     364.798740\n",
       "7559      95.046688     200.551791     363.838667\n",
       "7560      94.917270     200.567754     365.378239"
      ]
     },
     "execution_count": 43,
     "metadata": {},
     "output_type": "execute_result"
    }
   ],
   "source": [
    "# Compute projected returns\n",
    "\n",
    "# Display sample data\n",
    "\n",
    "x5_percentiles = []\n",
    "x50_percentiles = []\n",
    "x95_percentiles = []\n",
    "cumulative_returns = pd.DataFrame()\n",
    "\n",
    "for z in range(number_records+1):\n",
    "   \n",
    "    #Calculate 5%, 50% and 90% quantile and append to respective series\n",
    "    x5_percentile = monte_carlo.iloc[z, :].quantile(0.05)\n",
    "    x5_percentiles.append(x5_percentile)\n",
    "    x50_percentile = monte_carlo.iloc[z, :].quantile(0.50)\n",
    "    x50_percentiles.append(x50_percentile)\n",
    "    x95_percentile = monte_carlo.iloc[z, :].quantile(0.95)\n",
    "    x95_percentiles.append(x95_percentile)\n",
    "    \n",
    "#Append simulated prices in the simulation dataframe\n",
    "cumulative_returns[\"0.05 Quantile\"] = pd.Series(x5_percentiles)\n",
    "cumulative_returns[\"0.50 Quantile\"] = pd.Series(x50_percentiles)\n",
    "cumulative_returns[\"0.95 Quantile\"] = pd.Series(x95_percentiles)\n",
    "\n",
    "# Print bottom records of cumulative returns data frame\n",
    "cumulative_returns.tail()"
   ]
  },
  {
   "cell_type": "code",
   "execution_count": 44,
   "metadata": {},
   "outputs": [
    {
     "data": {
      "text/plain": [
       "<matplotlib.axes._subplots.AxesSubplot at 0x7f9a5bf1c090>"
      ]
     },
     "execution_count": 44,
     "metadata": {},
     "output_type": "execute_result"
    },
    {
     "data": {
      "image/png": "[encoded data removed]",
      "text/plain": [
       "<Figure size 720x360 with 1 Axes>"
      ]
     },
     "metadata": {
      "needs_background": "light"
     },
     "output_type": "display_data"
    }
   ],
   "source": [
    "# Plot the cumulative returns over time\n",
    "\n",
    "\n",
    "Quantile = (cumulative_returns*50000).plot(figsize=(10,5),title =\"Portfolio Returns Over 30 Years at Different Quantiles\")\n",
    "Quantile.set_xlabel(\"Days\")\n",
    "Quantile.set_ylabel(\"Portfolio Return\")\n",
    "Quantile"
   ]
  }
 ],
 "metadata": {
  "kernelspec": {
   "display_name": "Python 3",
   "language": "python",
   "name": "python3"
  },
  "language_info": {
   "codemirror_mode": {
    "name": "ipython",
    "version": 3
   },
   "file_extension": ".py",
   "mimetype": "text/x-python",
   "name": "python",
   "nbconvert_exporter": "python",
   "pygments_lexer": "ipython3",
   "version": "3.7.6"
  }
 },
 "nbformat": 4,
 "nbformat_minor": 4
}
